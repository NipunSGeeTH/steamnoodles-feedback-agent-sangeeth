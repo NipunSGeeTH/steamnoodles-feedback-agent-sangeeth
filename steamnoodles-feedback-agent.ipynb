{
  "cells": [
    {
      "cell_type": "code",
      "execution_count": null,
      "metadata": {
        "colab": {
          "base_uri": "https://localhost:8080/"
        },
        "id": "FBpC6e-5L46i",
        "outputId": "8112bfac-378c-48de-c9f0-9da954cb66c4"
      },
      "outputs": [
        {
          "name": "stdout",
          "output_type": "stream",
          "text": [
            "Requirement already satisfied: langchain in /usr/local/lib/python3.11/dist-packages (0.3.27)\n",
            "Requirement already satisfied: transformers in /usr/local/lib/python3.11/dist-packages (4.55.1)\n",
            "Requirement already satisfied: torch in /usr/local/lib/python3.11/dist-packages (2.6.0+cu124)\n",
            "Requirement already satisfied: pandas in /usr/local/lib/python3.11/dist-packages (2.2.2)\n",
            "Requirement already satisfied: matplotlib in /usr/local/lib/python3.11/dist-packages (3.10.0)\n",
            "Requirement already satisfied: seaborn in /usr/local/lib/python3.11/dist-packages (0.13.2)\n",
            "Requirement already satisfied: plotly in /usr/local/lib/python3.11/dist-packages (5.24.1)\n",
            "Requirement already satisfied: huggingface_hub in /usr/local/lib/python3.11/dist-packages (0.34.4)\n",
            "Requirement already satisfied: langchain-core<1.0.0,>=0.3.72 in /usr/local/lib/python3.11/dist-packages (from langchain) (0.3.74)\n",
            "Requirement already satisfied: langchain-text-splitters<1.0.0,>=0.3.9 in /usr/local/lib/python3.11/dist-packages (from langchain) (0.3.9)\n",
            "Requirement already satisfied: langsmith>=0.1.17 in /usr/local/lib/python3.11/dist-packages (from langchain) (0.4.14)\n",
            "Requirement already satisfied: pydantic<3.0.0,>=2.7.4 in /usr/local/lib/python3.11/dist-packages (from langchain) (2.11.7)\n",
            "Requirement already satisfied: SQLAlchemy<3,>=1.4 in /usr/local/lib/python3.11/dist-packages (from langchain) (2.0.43)\n",
            "Requirement already satisfied: requests<3,>=2 in /usr/local/lib/python3.11/dist-packages (from langchain) (2.32.3)\n",
            "Requirement already satisfied: PyYAML>=5.3 in /usr/local/lib/python3.11/dist-packages (from langchain) (6.0.2)\n",
            "Requirement already satisfied: filelock in /usr/local/lib/python3.11/dist-packages (from transformers) (3.18.0)\n",
            "Requirement already satisfied: numpy>=1.17 in /usr/local/lib/python3.11/dist-packages (from transformers) (2.0.2)\n",
            "Requirement already satisfied: packaging>=20.0 in /usr/local/lib/python3.11/dist-packages (from transformers) (24.2)\n",
            "Requirement already satisfied: regex!=2019.12.17 in /usr/local/lib/python3.11/dist-packages (from transformers) (2024.11.6)\n",
            "Requirement already satisfied: tokenizers<0.22,>=0.21 in /usr/local/lib/python3.11/dist-packages (from transformers) (0.21.4)\n",
            "Requirement already satisfied: safetensors>=0.4.3 in /usr/local/lib/python3.11/dist-packages (from transformers) (0.6.2)\n",
            "Requirement already satisfied: tqdm>=4.27 in /usr/local/lib/python3.11/dist-packages (from transformers) (4.67.1)\n",
            "Requirement already satisfied: typing-extensions>=4.10.0 in /usr/local/lib/python3.11/dist-packages (from torch) (4.14.1)\n",
            "Requirement already satisfied: networkx in /usr/local/lib/python3.11/dist-packages (from torch) (3.5)\n",
            "Requirement already satisfied: jinja2 in /usr/local/lib/python3.11/dist-packages (from torch) (3.1.6)\n",
            "Requirement already satisfied: fsspec in /usr/local/lib/python3.11/dist-packages (from torch) (2025.3.0)\n",
            "Requirement already satisfied: nvidia-cuda-nvrtc-cu12==12.4.127 in /usr/local/lib/python3.11/dist-packages (from torch) (12.4.127)\n",
            "Requirement already satisfied: nvidia-cuda-runtime-cu12==12.4.127 in /usr/local/lib/python3.11/dist-packages (from torch) (12.4.127)\n",
            "Requirement already satisfied: nvidia-cuda-cupti-cu12==12.4.127 in /usr/local/lib/python3.11/dist-packages (from torch) (12.4.127)\n",
            "Requirement already satisfied: nvidia-cudnn-cu12==9.1.0.70 in /usr/local/lib/python3.11/dist-packages (from torch) (9.1.0.70)\n",
            "Requirement already satisfied: nvidia-cublas-cu12==12.4.5.8 in /usr/local/lib/python3.11/dist-packages (from torch) (12.4.5.8)\n",
            "Requirement already satisfied: nvidia-cufft-cu12==11.2.1.3 in /usr/local/lib/python3.11/dist-packages (from torch) (11.2.1.3)\n",
            "Requirement already satisfied: nvidia-curand-cu12==10.3.5.147 in /usr/local/lib/python3.11/dist-packages (from torch) (10.3.5.147)\n",
            "Requirement already satisfied: nvidia-cusolver-cu12==11.6.1.9 in /usr/local/lib/python3.11/dist-packages (from torch) (11.6.1.9)\n",
            "Requirement already satisfied: nvidia-cusparse-cu12==12.3.1.170 in /usr/local/lib/python3.11/dist-packages (from torch) (12.3.1.170)\n",
            "Requirement already satisfied: nvidia-cusparselt-cu12==0.6.2 in /usr/local/lib/python3.11/dist-packages (from torch) (0.6.2)\n",
            "Requirement already satisfied: nvidia-nccl-cu12==2.21.5 in /usr/local/lib/python3.11/dist-packages (from torch) (2.21.5)\n",
            "Requirement already satisfied: nvidia-nvtx-cu12==12.4.127 in /usr/local/lib/python3.11/dist-packages (from torch) (12.4.127)\n",
            "Requirement already satisfied: nvidia-nvjitlink-cu12==12.4.127 in /usr/local/lib/python3.11/dist-packages (from torch) (12.4.127)\n",
            "Requirement already satisfied: triton==3.2.0 in /usr/local/lib/python3.11/dist-packages (from torch) (3.2.0)\n",
            "Requirement already satisfied: sympy==1.13.1 in /usr/local/lib/python3.11/dist-packages (from torch) (1.13.1)\n",
            "Requirement already satisfied: mpmath<1.4,>=1.1.0 in /usr/local/lib/python3.11/dist-packages (from sympy==1.13.1->torch) (1.3.0)\n",
            "Requirement already satisfied: python-dateutil>=2.8.2 in /usr/local/lib/python3.11/dist-packages (from pandas) (2.9.0.post0)\n",
            "Requirement already satisfied: pytz>=2020.1 in /usr/local/lib/python3.11/dist-packages (from pandas) (2025.2)\n",
            "Requirement already satisfied: tzdata>=2022.7 in /usr/local/lib/python3.11/dist-packages (from pandas) (2025.2)\n",
            "Requirement already satisfied: contourpy>=1.0.1 in /usr/local/lib/python3.11/dist-packages (from matplotlib) (1.3.3)\n",
            "Requirement already satisfied: cycler>=0.10 in /usr/local/lib/python3.11/dist-packages (from matplotlib) (0.12.1)\n",
            "Requirement already satisfied: fonttools>=4.22.0 in /usr/local/lib/python3.11/dist-packages (from matplotlib) (4.59.0)\n",
            "Requirement already satisfied: kiwisolver>=1.3.1 in /usr/local/lib/python3.11/dist-packages (from matplotlib) (1.4.9)\n",
            "Requirement already satisfied: pillow>=8 in /usr/local/lib/python3.11/dist-packages (from matplotlib) (11.3.0)\n",
            "Requirement already satisfied: pyparsing>=2.3.1 in /usr/local/lib/python3.11/dist-packages (from matplotlib) (3.2.3)\n",
            "Requirement already satisfied: tenacity>=6.2.0 in /usr/local/lib/python3.11/dist-packages (from plotly) (9.1.2)\n",
            "Requirement already satisfied: hf-xet<2.0.0,>=1.1.3 in /usr/local/lib/python3.11/dist-packages (from huggingface_hub) (1.1.7)\n",
            "Requirement already satisfied: jsonpatch<2.0,>=1.33 in /usr/local/lib/python3.11/dist-packages (from langchain-core<1.0.0,>=0.3.72->langchain) (1.33)\n",
            "Requirement already satisfied: httpx<1,>=0.23.0 in /usr/local/lib/python3.11/dist-packages (from langsmith>=0.1.17->langchain) (0.28.1)\n",
            "Requirement already satisfied: orjson>=3.9.14 in /usr/local/lib/python3.11/dist-packages (from langsmith>=0.1.17->langchain) (3.11.2)\n",
            "Requirement already satisfied: requests-toolbelt>=1.0.0 in /usr/local/lib/python3.11/dist-packages (from langsmith>=0.1.17->langchain) (1.0.0)\n",
            "Requirement already satisfied: zstandard>=0.23.0 in /usr/local/lib/python3.11/dist-packages (from langsmith>=0.1.17->langchain) (0.23.0)\n",
            "Requirement already satisfied: annotated-types>=0.6.0 in /usr/local/lib/python3.11/dist-packages (from pydantic<3.0.0,>=2.7.4->langchain) (0.7.0)\n",
            "Requirement already satisfied: pydantic-core==2.33.2 in /usr/local/lib/python3.11/dist-packages (from pydantic<3.0.0,>=2.7.4->langchain) (2.33.2)\n",
            "Requirement already satisfied: typing-inspection>=0.4.0 in /usr/local/lib/python3.11/dist-packages (from pydantic<3.0.0,>=2.7.4->langchain) (0.4.1)\n",
            "Requirement already satisfied: six>=1.5 in /usr/local/lib/python3.11/dist-packages (from python-dateutil>=2.8.2->pandas) (1.17.0)\n",
            "Requirement already satisfied: charset-normalizer<4,>=2 in /usr/local/lib/python3.11/dist-packages (from requests<3,>=2->langchain) (3.4.3)\n",
            "Requirement already satisfied: idna<4,>=2.5 in /usr/local/lib/python3.11/dist-packages (from requests<3,>=2->langchain) (3.10)\n",
            "Requirement already satisfied: urllib3<3,>=1.21.1 in /usr/local/lib/python3.11/dist-packages (from requests<3,>=2->langchain) (2.5.0)\n",
            "Requirement already satisfied: certifi>=2017.4.17 in /usr/local/lib/python3.11/dist-packages (from requests<3,>=2->langchain) (2025.8.3)\n",
            "Requirement already satisfied: greenlet>=1 in /usr/local/lib/python3.11/dist-packages (from SQLAlchemy<3,>=1.4->langchain) (3.2.4)\n",
            "Requirement already satisfied: MarkupSafe>=2.0 in /usr/local/lib/python3.11/dist-packages (from jinja2->torch) (3.0.2)\n",
            "Requirement already satisfied: anyio in /usr/local/lib/python3.11/dist-packages (from httpx<1,>=0.23.0->langsmith>=0.1.17->langchain) (4.10.0)\n",
            "Requirement already satisfied: httpcore==1.* in /usr/local/lib/python3.11/dist-packages (from httpx<1,>=0.23.0->langsmith>=0.1.17->langchain) (1.0.9)\n",
            "Requirement already satisfied: h11>=0.16 in /usr/local/lib/python3.11/dist-packages (from httpcore==1.*->httpx<1,>=0.23.0->langsmith>=0.1.17->langchain) (0.16.0)\n",
            "Requirement already satisfied: jsonpointer>=1.9 in /usr/local/lib/python3.11/dist-packages (from jsonpatch<2.0,>=1.33->langchain-core<1.0.0,>=0.3.72->langchain) (3.0.0)\n",
            "Requirement already satisfied: sniffio>=1.1 in /usr/local/lib/python3.11/dist-packages (from anyio->httpx<1,>=0.23.0->langsmith>=0.1.17->langchain) (1.3.1)\n"
          ]
        }
      ],
      "source": [
        "!pip install pandas matplotlib transformers torch google-generativeai"
      ]
    },
    {
      "cell_type": "code",
      "execution_count": null,
      "metadata": {
        "id": "IUF66pJvL50P"
      },
      "outputs": [],
      "source": []
    },
    {
      "cell_type": "code",
      "execution_count": 23,
      "metadata": {
        "colab": {
          "base_uri": "https://localhost:8080/"
        },
        "id": "kyjbQSGrVD8h",
        "outputId": "f9084334-e402-4f2c-94de-b4c7e7afc51f"
      },
      "outputs": [
        {
          "name": "stderr",
          "output_type": "stream",
          "text": [
            "Device set to use cpu\n"
          ]
        },
        {
          "name": "stdout",
          "output_type": "stream",
          "text": [
            "Installing required packages...\n",
            "pip install pandas matplotlib transformers torch google-generativeai\n",
            "\n",
            "Starting demo...\n"
          ]
        }
      ],
      "source": []
    },
    {
      "cell_type": "code",
      "execution_count": null,
      "metadata": {
        "colab": {
          "base_uri": "https://localhost:8080/"
        },
        "id": "IEYg1U6CpxCT",
        "outputId": "404c3eae-017a-4597-b2cb-2ad54ef6f991"
      },
      "outputs": [
        {
          "name": "stderr",
          "output_type": "stream",
          "text": [
            "Device set to use cpu\n"
          ]
        },
        {
          "name": "stdout",
          "output_type": "stream",
          "text": [
            "Installing required packages...\n",
            "pip install pandas matplotlib transformers torch google-generativeai\n",
            "\n",
            "Starting demo...\n"
          ]
        }
      ],
      "source": [
        "import pandas as pd\n",
        "import matplotlib.pyplot as plt\n",
        "from datetime import datetime, timedelta\n",
        "import random\n",
        "from transformers import pipeline\n",
        "import google.generativeai as genai\n",
        "import warnings\n",
        "warnings.filterwarnings('ignore')\n",
        "\n",
        "# Configure Gemini API for response generation (replace with your actual API key)\n",
        "genai.configure(api_key='yAdFVt-cKYvwnofSXQkiTiTrBquLlvfe8') \n",
        "gemini_model = genai.GenerativeModel('gemini-2.0-flash')\n",
        "\n",
        "# Set up HuggingFace pipeline for sentiment analysis\n",
        "sentiment_pipeline = pipeline(\"sentiment-analysis\",\n",
        "                             model=\"distilbert-base-uncased-finetuned-sst-2-english\")\n",
        "\n",
        "class SteamNoodlesFeedbackSystem:\n",
        "    def __init__(self, csv_path):\n",
        "        self.data = pd.read_csv(csv_path)\n",
        "\n",
        "    \"\"\"Simplified system for processing feedback and visualizing sentiment\"\"\"\n",
        "\n",
        "\n",
        "    def analyze_sentiment(self, text):\n",
        "     \n",
        "        result = sentiment_pipeline(text)[0]\n",
        "        return result['label'].lower()  # Returns 'positive' or 'negative'\n",
        "\n",
        "    def generate_response(self, feedback_text):\n",
        "      \n",
        "        sentiment = self.analyze_sentiment(feedback_text)\n",
        "\n",
        "        # Map DistilBERT sentiment to include 'neutral' if needed\n",
        "        sentiment_key = sentiment if sentiment in ['positive', 'negative'] else 'neutral'\n",
        "\n",
        "        # Prompt for Gemini to generate a response\n",
        "        prompt = f\"\"\"\n",
        "        You are a customer service representative for SteamNoodles restaurant chain.\n",
        "        Customer Feedback: {feedback_text}\n",
        "        Detected Sentiment: {sentiment_key}\n",
        "\n",
        "        Generate a professional, empathetic response that:\n",
        "        - Thanks the customer for their feedback\n",
        "        - Addresses their specific concerns if negative\n",
        "        - Shows enthusiasm if positive\n",
        "        - Offers next steps if needed\n",
        "        - Keeps the response under 50 words\n",
        "        - Uses a friendly, professional tone\n",
        "\n",
        "        Response:\n",
        "        \"\"\"\n",
        "\n",
        "        try:\n",
        "            response = gemini_model.generate_content(prompt)\n",
        "            generated_response = response.text.strip()\n",
        "        except Exception as e:\n",
        "            # Fallback responses if Gemini API fails\n",
        "            print(f\"Gemini API error: {e}\")\n",
        "            fallback_responses = {\n",
        "                'positive': \"Thank you for your great feedback! We're thrilled you enjoyed SteamNoodles. Come back soon! 🍜\",\n",
        "                'negative': \"We're sorry for your experience. Please email feedback@steamnoodles.com to help us improve. 🙏\",\n",
        "                'neutral': \"Thanks for your feedback! We appreciate your thoughts and hope to see you again at SteamNoodles.\"\n",
        "            }\n",
        "            generated_response = fallback_responses[sentiment_key]\n",
        "\n",
        "        return {\n",
        "            \"feedback\": feedback_text,\n",
        "            \"sentiment\": sentiment_key,\n",
        "            \"response\": generated_response\n",
        "        }\n",
        "\n",
        "\n",
        "\n",
        "    def create_bar_plot(self, date_range=\"last 7 days\"):\n",
        "        \"\"\"Create a bar plot of sentiment distribution for the last 7 days\"\"\"\n",
        "\n",
        "        # Load the CSV file\n",
        "\n",
        "\n",
        "        # Count sentiments\n",
        "        sentiment_counts = self.data['sentiment'].value_counts()\n",
        "\n",
        "        # Create bar plot\n",
        "        plt.figure(figsize=(8, 5))\n",
        "        bars = plt.bar(sentiment_counts.index, sentiment_counts.values,\n",
        "                      color=['#2ecc71', '#f39c12', '#e74c3c'])\n",
        "\n",
        "        # Add labels and title\n",
        "        plt.title(f'SteamNoodles Sentiment Distribution - {date_range}')\n",
        "        plt.xlabel('Sentiment')\n",
        "        plt.ylabel('Number of Reviews')\n",
        "\n",
        "        # Add value labels on top of bars\n",
        "        for bar in bars:\n",
        "            yval = bar.get_height()\n",
        "            plt.text(bar.get_x() + bar.get_width()/2, yval + 0.5, int(yval),\n",
        "                    ha='center', va='bottom')\n",
        "\n",
        "        plt.tight_layout()\n",
        "        plt.show()\n",
        "\n",
        "        return f\"Bar plot created for {date_range}\"\n",
        "\n",
        "if __name__ == \"__main__\":\n",
        "    # Required installations:\n",
        "    # pip install pandas matplotlib transformers torch google-generativeai\n",
        "    print(\"Installing required packages...\")\n",
        "    print(\"pip install pandas matplotlib transformers torch google-generativeai\")\n",
        "    print(\"\\nStarting demo...\")\n",
        "\n",
        "    # demo_system()"
      ]
    },
    {
      "cell_type": "markdown",
      "metadata": {
        "id": "aH8aD4iNukNg"
      },
      "source": [
        "# Draw distribution of last 7 days\n"
      ]
    },
    {
      "cell_type": "code",
      "execution_count": 58,
      "metadata": {
        "colab": {
          "base_uri": "https://localhost:8080/",
          "height": 542
        },
        "id": "pIdKcM1BWU7Z",
        "outputId": "67fafa48-0401-4aa8-885a-40ee9128a4be"
      },
      "outputs": [
        {
          "data": {
            "image/png": "[encoded data removed]",
            "text/plain": [
              "<Figure size 800x500 with 1 Axes>"
            ]
          },
          "metadata": {},
          "output_type": "display_data"
        },
        {
          "name": "stdout",
          "output_type": "stream",
          "text": [
            "\n",
            "✅ Bar plot created for last 7 days\n"
          ]
        }
      ],
      "source": [
        "csv_file_path = \"/content/restaurant_reviews.csv\"  # Update with correct path\n",
        "\n",
        "    # Create system and run\n",
        "system = SteamNoodlesFeedbackSystem(csv_file_path)\n",
        "\n",
        "# Generate bar plot\n",
        "result = system.create_bar_plot()\n",
        "print(f\"\\n✅ {result}\")\n",
        "\n",
        "# Generate response for a sample input\n"
      ]
    },
    {
      "cell_type": "markdown",
      "metadata": {
        "id": "ojLDsOJwuv5X"
      },
      "source": []
    },
    {
      "cell_type": "code",
      "execution_count": null,
      "metadata": {
        "id": "dLCd53MEvCW0"
      },
      "outputs": [],
      "source": []
    },
    {
      "cell_type": "markdown",
      "metadata": {
        "id": "_6s9KJF_us1a"
      },
      "source": [
        "# Get feedback respose from sentiment model and generate text from gemini flash model"
      ]
    },
    {
      "cell_type": "code",
      "execution_count": 60,
      "metadata": {
        "colab": {
          "base_uri": "https://localhost:8080/",
          "height": 124
        },
        "id": "UcjfN7_xZa74",
        "outputId": "e5d94d59-df49-4f6d-9c89-8c6dfa4a83dd"
      },
      "outputs": [
        {
          "name": "stdout",
          "output_type": "stream",
          "text": [
            "\n",
            " Gemini Response:\n",
            "Feedback: The noodles were amazing, but the staff was rude.\n",
            "Sentiment: negative\n",
            "Response: Thank you for your feedback! We're thrilled you enjoyed the noodles. We sincerely apologize for the rude staff; that's not the SteamNoodles experience we aim for. We'll address this with our team to ensure better service going forward.\n"
          ]
        }
      ],
      "source": [
        "feedback = \"The noodles were amazing, but the staff was rude.\"\n",
        "response_info = system.generate_response(feedback)\n",
        "print(\"\\n Gemini Response:\")\n",
        "print(\"Feedback:\", response_info[\"feedback\"])\n",
        "print(\"Sentiment:\", response_info[\"sentiment\"])\n",
        "print(\"Response:\", response_info[\"response\"])"
      ]
    }
  ],
  "metadata": {
    "colab": {
      "provenance": []
    },
    "kernelspec": {
      "display_name": "Python 3",
      "name": "python3"
    },
    "language_info": {
      "name": "python"
    }
  },
  "nbformat": 4,
  "nbformat_minor": 0
}
